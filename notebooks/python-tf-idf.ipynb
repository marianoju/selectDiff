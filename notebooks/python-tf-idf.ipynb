{
 "cells": [
  {
   "cell_type": "markdown",
   "metadata": {},
   "source": [
    "# [hrs/python-tf-idf](https://github.com/hrs/python-tf-idf) \n",
    "\n",
    "An extremely simple Python library to perform TF-IDF document comparison. "
   ]
  },
  {
   "cell_type": "code",
   "execution_count": 1,
   "metadata": {},
   "outputs": [
    {
     "data": {
      "text/plain": [
       "'\\nThe simplest TF-IDF library imaginable.\\nAdd your documents as two-element lists `[docname,\\n[list_of_words_in_the_document]]` with `addDocument(docname, list_of_words)`.\\nGet a list of all the `[docname, similarity_score]` pairs relative to a\\ndocument by calling `similarities([list_of_words])`.\\nSee the README for a usage example.\\n'"
      ]
     },
     "execution_count": 1,
     "metadata": {},
     "output_type": "execute_result"
    }
   ],
   "source": [
    "#!/usr/bin/env python\n",
    "\n",
    "\"\"\"\n",
    "The simplest TF-IDF library imaginable.\n",
    "Add your documents as two-element lists `[docname,\n",
    "[list_of_words_in_the_document]]` with `addDocument(docname, list_of_words)`.\n",
    "Get a list of all the `[docname, similarity_score]` pairs relative to a\n",
    "document by calling `similarities([list_of_words])`.\n",
    "See the README for a usage example.\n",
    "\"\"\""
   ]
  },
  {
   "cell_type": "code",
   "execution_count": 2,
   "metadata": {},
   "outputs": [],
   "source": [
    "import sys\n",
    "import os"
   ]
  },
  {
   "cell_type": "code",
   "execution_count": 3,
   "metadata": {},
   "outputs": [],
   "source": [
    "class TfIdf:\n",
    "    def __init__(self):\n",
    "        self.weighted = False\n",
    "        self.documents = []\n",
    "        self.corpus_dict = {}\n",
    "\n",
    "    def add_document(self, doc_name, list_of_words):\n",
    "        # building a dictionary\n",
    "        doc_dict = {}\n",
    "        for w in list_of_words:\n",
    "            doc_dict[w] = doc_dict.get(w, 0.) + 1.0\n",
    "            self.corpus_dict[w] = self.corpus_dict.get(w, 0.0) + 1.0\n",
    "\n",
    "        # normalizing the dictionary\n",
    "        length = float(len(list_of_words))\n",
    "        for k in doc_dict:\n",
    "            doc_dict[k] = doc_dict[k] / length\n",
    "\n",
    "        # add the normalized document to the corpus\n",
    "        self.documents.append([doc_name, doc_dict])\n",
    "\n",
    "    def similarities(self, list_of_words):\n",
    "        \"\"\"\n",
    "        Returns a list of all the [docname, similarity_score] pairs \n",
    "        relative to a list of words.\n",
    "        \"\"\"\n",
    "\n",
    "        # building the query dictionary\n",
    "        query_dict = {}\n",
    "        for w in list_of_words:\n",
    "            query_dict[w] = query_dict.get(w, 0.0) + 1.0\n",
    "\n",
    "        # normalizing the query\n",
    "        length = float(len(list_of_words))\n",
    "        for k in query_dict:\n",
    "            query_dict[k] = query_dict[k] / length\n",
    "\n",
    "        # computing the list of similarities\n",
    "        sims = []\n",
    "        for doc in self.documents:\n",
    "            score = 0.0\n",
    "            doc_dict = doc[1]\n",
    "            for k in query_dict:\n",
    "                if k in doc_dict:\n",
    "                    score += (query_dict[k] / self.corpus_dict[k]) + (\n",
    "                      doc_dict[k] / self.corpus_dict[k])\n",
    "            sims.append([doc[0], score])\n",
    "\n",
    "        return sims"
   ]
  },
  {
   "cell_type": "code",
   "execution_count": null,
   "metadata": {},
   "outputs": [],
   "source": []
  }
 ],
 "metadata": {
  "kernelspec": {
   "display_name": "Python 3",
   "language": "python",
   "name": "python3"
  },
  "language_info": {
   "codemirror_mode": {
    "name": "ipython",
    "version": 3
   },
   "file_extension": ".py",
   "mimetype": "text/x-python",
   "name": "python",
   "nbconvert_exporter": "python",
   "pygments_lexer": "ipython3",
   "version": "3.6.6"
  }
 },
 "nbformat": 4,
 "nbformat_minor": 2
}
