{
 "cells": [
  {
   "cell_type": "markdown",
   "metadata": {},
   "source": [
    "# [Scrape RSS](https://algorithmia.com/algorithms/tags/ScrapeRSS)\n",
    "\n",
    "Return title, link and comments for each item in an RSS feed"
   ]
  },
  {
   "cell_type": "code",
   "execution_count": 1,
   "metadata": {},
   "outputs": [],
   "source": [
    "import Algorithmia"
   ]
  },
  {
   "cell_type": "code",
   "execution_count": 2,
   "metadata": {},
   "outputs": [],
   "source": [
    "input = \"https://news.ycombinator.com/rss\""
   ]
  },
  {
   "cell_type": "code",
   "execution_count": 3,
   "metadata": {},
   "outputs": [],
   "source": [
    "client = Algorithmia.client('simSdvaUyv1QhTmIH6OruLuEzoA1')"
   ]
  },
  {
   "cell_type": "code",
   "execution_count": 4,
   "metadata": {},
   "outputs": [],
   "source": [
    "algo = client.algo('tags/ScrapeRSS/0.1.6')"
   ]
  },
  {
   "cell_type": "code",
   "execution_count": 5,
   "metadata": {},
   "outputs": [
    {
     "name": "stdout",
     "output_type": "stream",
     "text": [
      "[{'description': '<a href=\"https://news.ycombinator.com/item?id=18138328\">Comments</a>', 'title': 'How China Used a Tiny Chip to Infiltrate Amazon and Apple', 'url': 'https://www.bloomberg.com/news/features/2018-10-04/the-big-hack-how-china-used-a-tiny-chip-to-infiltrate-america-s-top-companies'}, {'description': '<a href=\"https://news.ycombinator.com/item?id=18138793\">Comments</a>', 'title': 'IQ Matters Less Than You Think', 'url': 'http://nautil.us/issue/65/in-plain-sight/your-iq-matters-less-than-you-think'}, {'description': '<a href=\"https://news.ycombinator.com/item?id=18127732\">Comments</a>', 'title': 'A raytracer you can actually understand', 'url': 'https://tmcw.github.io/literate-raytracer/'}, {'description': '<a href=\"https://news.ycombinator.com/item?id=18128456\">Comments</a>', 'title': 'Kubernetes for personal projects? No thanks', 'url': 'https://carlosrdrz.es/kubernetes-for-small-projects/'}, {'description': '<a href=\"https://news.ycombinator.com/item?id=18138116\">Comments</a>', 'title': '“Social network” of brains lets people transmit thoughts to each other’s heads', 'url': 'https://www.technologyreview.com/s/612212/the-first-social-network-of-brains-lets-three-people-transmit-thoughts-to-each-others-heads/'}, {'description': '<a href=\"https://news.ycombinator.com/item?id=18138174\">Comments</a>', 'title': 'About the ZipCPU', 'url': 'http://zipcpu.com/about/zipcpu.html'}, {'description': '<a href=\"https://news.ycombinator.com/item?id=18129279\">Comments</a>', 'title': 'A Review of the Neural History of Natural Language Processing', 'url': 'http://blog.aylien.com/a-review-of-the-recent-history-of-natural-language-processing/'}, {'description': '<a href=\"https://news.ycombinator.com/item?id=18138990\">Comments</a>', 'title': 'The Big Hack: Amazon, Apple, Supermicro, and Beijing Respond', 'url': 'https://www.bloomberg.com/news/articles/2018-10-04/the-big-hack-amazon-apple-supermicro-and-beijing-respond'}, {'description': '<a href=\"https://news.ycombinator.com/item?id=18136622\">Comments</a>', 'title': 'Running Your Company by Patrick Collison [video]', 'url': 'https://www.youtube.com/watch?v=NprBQi0cSHU'}, {'description': '<a href=\"https://news.ycombinator.com/item?id=18120056\">Comments</a>', 'title': \"Fletcher's Checksum\", 'url': 'https://en.wikipedia.org/wiki/Fletcher%27s_checksum'}, {'description': '<a href=\"https://news.ycombinator.com/item?id=18135168\">Comments</a>', 'title': \"'Siri I'm getting pulled over': New shortcut can automatically record the police\", 'url': 'https://www.businessinsider.com/ios-12-shortcut-uses-iphone-to-record-police-during-traffic-stop-2018-10'}, {'description': '<a href=\"https://news.ycombinator.com/item?id=18135949\">Comments</a>', 'title': 'Blazor, a framework for browser-based .NET apps using WebAssembly [video]', 'url': 'https://www.youtube.com/watch?v=JU-6pAxqAa4'}, {'description': '<a href=\"https://news.ycombinator.com/item?id=18137132\">Comments</a>', 'title': 'Ask HN: How to start a startup that requires a high amount of initial capital?', 'url': 'https://news.ycombinator.com/item?id=18137132'}, {'description': '<a href=\"https://news.ycombinator.com/item?id=18137740\">Comments</a>', 'title': \"Banks scramble to fix old systems as IT 'cowboys' ride into sunset\", 'url': 'https://www.reuters.com/article/us-usa-banks-cobol/banks-scramble-to-fix-old-systems-as-it-cowboys-ride-into-sunset-idUSKBN17C0D8'}, {'description': '<a href=\"https://news.ycombinator.com/item?id=18136136\">Comments</a>', 'title': 'Twenty Questions Of Maddening, Delicious Geometry', 'url': 'https://mathwithbaddrawings.com/2018/10/03/twenty-questions-of-maddening-delicious-geometry/'}, {'description': '<a href=\"https://news.ycombinator.com/item?id=18136470\">Comments</a>', 'title': 'On McNeil Island, the only residents are dangerous sex offenders', 'url': 'https://www.theguardian.com/us-news/2018/oct/03/dangerous-sex-offenders-mcneil-island-commitment-center'}, {'description': '<a href=\"https://news.ycombinator.com/item?id=18119570\">Comments</a>', 'title': 'Stacked Diffs versus Pull Requests', 'url': 'https://jg.gg/2018/09/29/stacked-diffs-versus-pull-requests/'}, {'description': '<a href=\"https://news.ycombinator.com/item?id=18134114\">Comments</a>', 'title': 'Do You Really Know CORS?', 'url': 'http://performantcode.com/web/do-you-really-know-cors'}, {'description': '<a href=\"https://news.ycombinator.com/item?id=18129071\">Comments</a>', 'title': 'Various species of ants engage in some kind of agriculture (2016)', 'url': 'https://www.npr.org/sections/thesalt/2016/11/25/503069741/who-invented-agriculture-first-it-sure-wasnt-humans'}, {'description': '<a href=\"https://news.ycombinator.com/item?id=18129474\">Comments</a>', 'title': 'Show HN: A simple resource for finding and trying variable fonts', 'url': 'https://v-fonts.com'}, {'description': '<a href=\"https://news.ycombinator.com/item?id=18136588\">Comments</a>', 'title': 'Ask HN: Open-source commitment for commercial software?', 'url': 'https://news.ycombinator.com/item?id=18136588'}, {'description': '<a href=\"https://news.ycombinator.com/item?id=18128737\">Comments</a>', 'title': 'The metamorphosis of Escher', 'url': 'https://escher.ntr.nl/en/'}, {'description': '<a href=\"https://news.ycombinator.com/item?id=18119687\">Comments</a>', 'title': 'The Lightning Field', 'url': 'https://www.diaart.org/visit/visit/walter-de-maria-the-lightning-field/'}, {'description': '<a href=\"https://news.ycombinator.com/item?id=18131616\">Comments</a>', 'title': 'Honda will use GM’s self-driving technology, invests in Cruise', 'url': 'https://arstechnica.com/cars/2018/10/honda-will-use-gms-self-driving-technology-invest-2-75-billion/'}, {'description': '<a href=\"https://news.ycombinator.com/item?id=18136811\">Comments</a>', 'title': 'Police Use Fitbit Data to Charge 90-Year-Old Man in Stepdaughter’s Killing', 'url': 'https://www.nytimes.com/2018/10/03/us/fitbit-murder-arrest.html'}, {'description': '<a href=\"https://news.ycombinator.com/item?id=18136323\">Comments</a>', 'title': 'Apple Shortcuts User Guide', 'url': 'https://support.apple.com/guide/shortcuts/welcome/ios'}, {'description': '<a href=\"https://news.ycombinator.com/item?id=18130861\">Comments</a>', 'title': 'Why we need more than “learn at your own pace” online learning', 'url': 'https://blog.brainstation.io/why-we-need-more-than-learn-at-your-own-pace/'}, {'description': '<a href=\"https://news.ycombinator.com/item?id=18131525\">Comments</a>', 'title': 'New autonomous farm wants to produce food without human workers', 'url': 'https://www.technologyreview.com/s/612230/new-autonomous-farm-wants-to-produce-food-without-human-workers/'}, {'description': '<a href=\"https://news.ycombinator.com/item?id=18135035\">Comments</a>', 'title': 'Thirtieth anniversary of the publication of Vasily Grossman’s “Life and Fate”', 'url': 'https://www.newcriterion.com/issues/2018/10/totalitarian-physics-moral-threshing'}, {'description': '<a href=\"https://news.ycombinator.com/item?id=18136049\">Comments</a>', 'title': 'Critical Path Driven Development', 'url': 'https://medium.com/@rakyll/cpdd-critical-path-driven-development-6c2592fb8ea4'}]\n"
     ]
    }
   ],
   "source": [
    "print(algo.pipe(input).result)"
   ]
  }
 ],
 "metadata": {
  "kernelspec": {
   "display_name": "Python 3",
   "language": "python",
   "name": "python3"
  },
  "language_info": {
   "codemirror_mode": {
    "name": "ipython",
    "version": 3
   },
   "file_extension": ".py",
   "mimetype": "text/x-python",
   "name": "python",
   "nbconvert_exporter": "python",
   "pygments_lexer": "ipython3",
   "version": "3.6.6"
  }
 },
 "nbformat": 4,
 "nbformat_minor": 2
}
