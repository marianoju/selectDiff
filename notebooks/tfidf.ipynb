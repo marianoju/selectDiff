{
 "cells": [
  {
   "cell_type": "code",
   "execution_count": 1,
   "metadata": {},
   "outputs": [],
   "source": [
    "#!/usr/bin/env python\n",
    "# encoding: utf-8\n",
    "#\n",
    "# tf-idf example in Python\n",
    "# by Tim Trueman provided under:\n",
    "# \n",
    "# The MIT License\n",
    "# \n",
    "# Copyright (c) 2009 Tim Trueman\n",
    "# \n",
    "# Permission is hereby granted, free of charge, to any person obtaining a copy\n",
    "# of this software and associated documentation files (the \"Software\"), to deal\n",
    "# in the Software without restriction, including without limitation the rights\n",
    "# to use, copy, modify, merge, publish, distribute, sublicense, and/or sell\n",
    "# copies of the Software, and to permit persons to whom the Software is\n",
    "# furnished to do so, subject to the following conditions:\n",
    "# \n",
    "# The above copyright notice and this permission notice shall be included in\n",
    "# all copies or substantial portions of the Software.\n",
    "# \n",
    "# THE SOFTWARE IS PROVIDED \"AS IS\", WITHOUT WARRANTY OF ANY KIND, EXPRESS OR\n",
    "# IMPLIED, INCLUDING BUT NOT LIMITED TO THE WARRANTIES OF MERCHANTABILITY,\n",
    "# FITNESS FOR A PARTICULAR PURPOSE AND NONINFRINGEMENT. IN NO EVENT SHALL THE\n",
    "# AUTHORS OR COPYRIGHT HOLDERS BE LIABLE FOR ANY CLAIM, DAMAGES OR OTHER\n",
    "# LIABILITY, WHETHER IN AN ACTION OF CONTRACT, TORT OR OTHERWISE, ARISING FROM,\n",
    "# OUT OF OR IN CONNECTION WITH THE SOFTWARE OR THE USE OR OTHER DEALINGS IN\n",
    "# THE SOFTWARE.\n",
    "#\n",
    "# http://www.opensource.org/licenses/mit-license.php"
   ]
  },
  {
   "cell_type": "code",
   "execution_count": 2,
   "metadata": {},
   "outputs": [],
   "source": [
    "import math\n",
    "from operator import itemgetter"
   ]
  },
  {
   "cell_type": "code",
   "execution_count": 3,
   "metadata": {},
   "outputs": [],
   "source": [
    "def freq(word, document):\n",
    "  return document.split(None).count(word)\n",
    " \n",
    "def wordCount(document):\n",
    "  return len(document.split(None))\n",
    " \n",
    "def numDocsContaining(word, documentList):\n",
    "  count = 0\n",
    "  for document in documentList:\n",
    "    if freq(word, document) > 0:\n",
    "      count += 1\n",
    "  return count\n",
    " \n",
    "def tf(word, document):\n",
    "  return (freq(word, document) / float(wordCount(document)))\n",
    " \n",
    "def idf(word, documentList):\n",
    "  return math.log(len(documentList) / numDocsContaining(word, documentList))\n",
    " \n",
    "def tfidf(word, document, documentList):\n",
    "  return (tf(word, document) * idf(word, documentList))"
   ]
  },
  {
   "cell_type": "code",
   "execution_count": 7,
   "metadata": {},
   "outputs": [
    {
     "name": "stdout",
     "output_type": "stream",
     "text": [
      "0.366204 <= #1\n",
      "0.000000 <= DOCUMENT\n",
      "0.000000 <= TEXT\n"
     ]
    }
   ],
   "source": [
    "if __name__ == '__main__':\n",
    "    documentList = []\n",
    "    documentList.append(\"\"\"DOCUMENT #1 TEXT\"\"\")\n",
    "    documentList.append(\"\"\"DOCUMENT #2 TEXT\"\"\")\n",
    "    documentList.append(\"\"\"DOCUMENT #3 TEXT\"\"\")\n",
    "    words = {}\n",
    "    documentNumber = 0\n",
    "    for word in documentList[documentNumber].split(None):\n",
    "        words[word] = tfidf(word, documentList[documentNumber], documentList)\n",
    "    for item in sorted(words.items(), key=itemgetter(1), reverse=True):\n",
    "        print(\"%f <= %s\" % (item[1], item[0]))"
   ]
  },
  {
   "cell_type": "code",
   "execution_count": 8,
   "metadata": {},
   "outputs": [
    {
     "data": {
      "text/plain": [
       "['DOCUMENT #1 TEXT', 'DOCUMENT #2 TEXT', 'DOCUMENT #3 TEXT']"
      ]
     },
     "execution_count": 8,
     "metadata": {},
     "output_type": "execute_result"
    }
   ],
   "source": [
    "documentList"
   ]
  },
  {
   "cell_type": "code",
   "execution_count": 9,
   "metadata": {},
   "outputs": [
    {
     "data": {
      "text/plain": [
       "{'DOCUMENT': 0.0, '#1': 0.3662040962227032, 'TEXT': 0.0}"
      ]
     },
     "execution_count": 9,
     "metadata": {},
     "output_type": "execute_result"
    }
   ],
   "source": [
    "words"
   ]
  }
 ],
 "metadata": {
  "kernelspec": {
   "display_name": "Python 3",
   "language": "python",
   "name": "python3"
  },
  "language_info": {
   "codemirror_mode": {
    "name": "ipython",
    "version": 3
   },
   "file_extension": ".py",
   "mimetype": "text/x-python",
   "name": "python",
   "nbconvert_exporter": "python",
   "pygments_lexer": "ipython3",
   "version": "3.6.6"
  }
 },
 "nbformat": 4,
 "nbformat_minor": 2
}
