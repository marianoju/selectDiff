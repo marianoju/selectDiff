{
 "cells": [
  {
   "cell_type": "markdown",
   "metadata": {},
   "source": [
    "# [anabranch/tfpdf.py](https://gist.github.com/anabranch/48c5c0124ba4e162b2e3) \n",
    "\n",
    "TF IDF Explained in Python Along with Scikit-Learn Implementation "
   ]
  },
  {
   "cell_type": "markdown",
   "metadata": {},
   "source": [
    "- [Basic Statistical NLP Part 1 - Jaccard Similarity and TF-IDF](http://billchambers.me/tutorials/2014/12/21/tf-idf-explained-in-python.html)\n",
    "- [Basic Statistical NLP Part 2 - TF-IDF And Cosine Similarity](http://billchambers.me/tutorials/2014/12/22/cosine-similarity-explained-in-python.html)"
   ]
  },
  {
   "cell_type": "code",
   "execution_count": 1,
   "metadata": {},
   "outputs": [],
   "source": [
    "from __future__ import division\n",
    "import string\n",
    "import math"
   ]
  },
  {
   "cell_type": "code",
   "execution_count": 2,
   "metadata": {},
   "outputs": [],
   "source": [
    "tokenize = lambda doc: doc.lower().split(\" \")"
   ]
  },
  {
   "cell_type": "code",
   "execution_count": 3,
   "metadata": {},
   "outputs": [],
   "source": [
    "document_0 = \"China has a strong economy that is growing at a rapid pace. However politically it differs greatly from the US Economy.\"\n",
    "document_1 = \"At last, China seems serious about confronting an endemic problem: domestic violence and corruption.\"\n",
    "document_2 = \"Japan's prime minister, Shinzo Abe, is working towards healing the economic turmoil in his own country for his view on the future of his people.\"\n",
    "document_3 = \"Vladimir Putin is working hard to fix the economy in Russia as the Ruble has tumbled.\"\n",
    "document_4 = \"What's the future of Abenomics? We asked Shinzo Abe for his views\"\n",
    "document_5 = \"Obama has eased sanctions on Cuba while accelerating those against the Russian Economy, even as the Ruble's value falls almost daily.\"\n",
    "document_6 = \"Vladimir Putin is riding a horse while hunting deer. Vladimir Putin always seems so serious about things - even riding horses. Is he crazy?\"\n",
    "\n",
    "all_documents = [document_0, document_1, document_2, document_3, document_4, document_5, document_6]"
   ]
  },
  {
   "cell_type": "code",
   "execution_count": 4,
   "metadata": {},
   "outputs": [],
   "source": [
    "def jaccard_similarity(query, document):\n",
    "    intersection = set(query).intersection(set(document))\n",
    "    union = set(query).union(set(document))\n",
    "    return len(intersection)/len(union)\n",
    "\n",
    "def term_frequency(term, tokenized_document):\n",
    "    return tokenized_document.count(term)\n",
    "\n",
    "def sublinear_term_frequency(term, tokenized_document):\n",
    "    count = tokenized_document.count(term)\n",
    "    if count == 0:\n",
    "        return 0\n",
    "    return 1 + math.log(count)\n",
    "\n",
    "def augmented_term_frequency(term, tokenized_document):\n",
    "    max_count = max([term_frequency(t, tokenized_document) for t in tokenized_document])\n",
    "    return (0.5 + ((0.5 * term_frequency(term, tokenized_document))/max_count))\n",
    "\n",
    "def inverse_document_frequencies(tokenized_documents):\n",
    "    idf_values = {}\n",
    "    all_tokens_set = set([item for sublist in tokenized_documents for item in sublist])\n",
    "    for tkn in all_tokens_set:\n",
    "        contains_token = map(lambda doc: tkn in doc, tokenized_documents)\n",
    "        idf_values[tkn] = 1 + math.log(len(tokenized_documents)/(sum(contains_token)))\n",
    "    return idf_values\n",
    "\n",
    "def tfidf(documents):\n",
    "    tokenized_documents = [tokenize(d) for d in documents]\n",
    "    idf = inverse_document_frequencies(tokenized_documents)\n",
    "    tfidf_documents = []\n",
    "    for document in tokenized_documents:\n",
    "        doc_tfidf = []\n",
    "        for term in idf.keys():\n",
    "            tf = sublinear_term_frequency(term, document)\n",
    "            doc_tfidf.append(tf * idf[term])\n",
    "        tfidf_documents.append(doc_tfidf)\n",
    "    return tfidf_documents"
   ]
  },
  {
   "cell_type": "code",
   "execution_count": 5,
   "metadata": {},
   "outputs": [],
   "source": [
    "# in Scikit-Learn\n",
    "from sklearn.feature_extraction.text import TfidfVectorizer\n",
    "\n",
    "sklearn_tfidf = TfidfVectorizer(norm='l2',min_df=0, use_idf=True, smooth_idf=False, sublinear_tf=True, tokenizer=tokenize)\n",
    "sklearn_representation = sklearn_tfidf.fit_transform(all_documents)"
   ]
  },
  {
   "cell_type": "code",
   "execution_count": 6,
   "metadata": {},
   "outputs": [
    {
     "name": "stdout",
     "output_type": "stream",
     "text": [
      "[0.0, 0.3112012154045971, 0.0, 0.0, 0.0, 0.0, 0.0, 0.0, 0.0, 0.0, 0.0, 0.0, 0.0, 0.0, 0.18380045100490253, 0.18380045100490253, 0.0, 0.0, 0.0, 0.0, 0.0, 0.0, 0.0, 0.2403535665263221, 0.0, 0.0, 0.0, 0.18380045100490253, 0.0, 0.2403535665263221, 0.0, 0.0, 0.0, 0.0, 0.0, 0.2403535665263221, 0.0, 0.2403535665263221, 0.2403535665263221, 0.0, 0.15071899912592052, 0.0, 0.0, 0.0, 0.0, 0.0, 0.2403535665263221, 0.0, 0.0, 0.127247335483483, 0.2403535665263221, 0.0, 0.0, 0.0, 0.0, 0.0, 0.0, 0.0, 0.2403535665263221, 0.0, 0.2403535665263221, 0.0, 0.0, 0.0, 0.2403535665263221, 0.0, 0.0, 0.0, 0.0, 0.0, 0.0, 0.0, 0.0, 0.0, 0.0, 0.2403535665263221, 0.2403535665263221, 0.10904129874372748, 0.0, 0.0, 0.0, 0.0, 0.0, 0.0, 0.2403535665263221, 0.0, 0.0, 0.0, 0.0, 0.0, 0.0, 0.0, 0.0, 0.0]\n"
     ]
    }
   ],
   "source": [
    "print(sklearn_representation.toarray()[0].tolist())"
   ]
  },
  {
   "cell_type": "code",
   "execution_count": 7,
   "metadata": {},
   "outputs": [
    {
     "name": "stdout",
     "output_type": "stream",
     "text": [
      "((1.0000000000000002, 4, 4), (1.0000000000000002, 6, 6))\n",
      "((1.0, 6, 6), (1.0000000000000002, 2, 2))\n",
      "((1.0, 5, 5), (1.0000000000000002, 0, 0))\n",
      "((1.0, 2, 2), (1.0, 5, 5))\n",
      "((1.0, 1, 1), (1.0, 4, 4))\n",
      "((1.0, 0, 0), (1.0, 3, 3))\n",
      "((0.9999999999999999, 3, 3), (1.0, 1, 1))\n",
      "((0.2931092569884059, 4, 2), (0.29310925698840595, 4, 2))\n",
      "((0.2931092569884059, 2, 4), (0.29310925698840595, 2, 4))\n",
      "((0.1650630690646461, 6, 3), (0.16506306906464616, 6, 3))\n",
      "((0.1650630690646461, 3, 6), (0.16506306906464616, 3, 6))\n",
      "((0.14060334967136978, 3, 2), (0.14060334967136984, 3, 2))\n",
      "((0.14060334967136978, 2, 3), (0.14060334967136984, 2, 3))\n",
      "((0.11766551247749865, 3, 0), (0.11766551247749867, 3, 0))\n",
      "((0.11766551247749865, 0, 3), (0.11766551247749867, 0, 3))\n",
      "((0.11478807222952392, 5, 3), (0.11478807222952396, 5, 3))\n",
      "((0.11478807222952392, 3, 5), (0.11478807222952396, 3, 5))\n",
      "((0.11212208176085793, 6, 1), (0.11212208176085793, 6, 1))\n",
      "((0.11212208176085793, 1, 6), (0.11212208176085793, 1, 6))\n",
      "((0.08140732228934985, 1, 0), (0.08140732228934984, 1, 0))\n",
      "((0.08140732228934985, 0, 1), (0.08140732228934984, 0, 1))\n",
      "((0.07769257358999192, 6, 0), (0.07769257358999193, 6, 0))\n",
      "((0.07769257358999192, 0, 6), (0.07769257358999193, 0, 6))\n",
      "((0.0638569521562436, 5, 2), (0.06385695215624362, 5, 2))\n",
      "((0.0638569521562436, 2, 5), (0.06385695215624362, 2, 5))\n",
      "((0.062016241985445496, 6, 5), (0.06201624198544552, 6, 5))\n",
      "((0.062016241985445496, 5, 6), (0.06201624198544552, 5, 6))\n",
      "((0.042832542061084215, 5, 0), (0.04283254206108423, 5, 0))\n",
      "((0.042832542061084215, 0, 5), (0.04283254206108423, 0, 5))\n",
      "((0.03513943454371288, 4, 3), (0.03513943454371288, 4, 3))\n",
      "((0.03513943454371288, 3, 4), (0.03513943454371288, 3, 4))\n",
      "((0.03418867924527534, 2, 0), (0.034188679245275355, 2, 0))\n",
      "((0.03418867924527534, 0, 2), (0.034188679245275355, 0, 2))\n",
      "((0.027710443726288548, 5, 4), (0.02771044372628855, 5, 4))\n",
      "((0.027710443726288548, 4, 5), (0.02771044372628855, 4, 5))\n",
      "((0.023693226722828944, 6, 2), (0.023693226722828954, 6, 2))\n",
      "((0.023693226722828944, 2, 6), (0.023693226722828954, 2, 6))\n",
      "((0.016372043415710746, 4, 0), (0.016372043415710743, 4, 0))\n",
      "((0.016372043415710746, 0, 4), (0.016372043415710743, 0, 4))\n",
      "((0.0, 6, 4), (0.0, 6, 4))\n",
      "((0.0, 5, 1), (0.0, 5, 1))\n",
      "((0.0, 4, 6), (0.0, 4, 6))\n",
      "((0.0, 4, 1), (0.0, 4, 1))\n",
      "((0.0, 3, 1), (0.0, 3, 1))\n",
      "((0.0, 2, 1), (0.0, 2, 1))\n",
      "((0.0, 1, 5), (0.0, 1, 5))\n",
      "((0.0, 1, 4), (0.0, 1, 4))\n",
      "((0.0, 1, 3), (0.0, 1, 3))\n",
      "((0.0, 1, 2), (0.0, 1, 2))\n"
     ]
    }
   ],
   "source": [
    "def cosine_similarity(vector1, vector2):\n",
    "    dot_product = sum(p*q for p,q in zip(vector1, vector2))\n",
    "    magnitude = math.sqrt(sum([val**2 for val in vector1])) * math.sqrt(sum([val**2 for val in vector2]))\n",
    "    if not magnitude:\n",
    "        return 0\n",
    "    return dot_product/magnitude\n",
    "\n",
    "tfidf_representation = tfidf(all_documents)\n",
    "our_tfidf_comparisons = []\n",
    "\n",
    "for count_0, doc_0 in enumerate(tfidf_representation):\n",
    "    for count_1, doc_1 in enumerate(tfidf_representation):\n",
    "        our_tfidf_comparisons.append((cosine_similarity(doc_0, doc_1), count_0, count_1))\n",
    "\n",
    "skl_tfidf_comparisons = []\n",
    "\n",
    "for count_0, doc_0 in enumerate(sklearn_representation.toarray()):\n",
    "    for count_1, doc_1 in enumerate(sklearn_representation.toarray()):\n",
    "        skl_tfidf_comparisons.append((cosine_similarity(doc_0, doc_1), count_0, count_1))\n",
    "\n",
    "for x in zip(sorted(our_tfidf_comparisons, reverse = True), sorted(skl_tfidf_comparisons, reverse = True)):\n",
    "    print(x)"
   ]
  },
  {
   "cell_type": "code",
   "execution_count": 8,
   "metadata": {},
   "outputs": [
    {
     "name": "stdout",
     "output_type": "stream",
     "text": [
      "[2.9459101490553135, 0.0, 0.0, 0.0, 0.0, 0.0, 0.0, 0.0, 0.0, 0.0, 0.0, 0.0, 2.252762968495368, 2.9459101490553135, 0.0, 0.0, 0.0, 0.0, 2.9459101490553135, 0.0, 0.0, 0.0, 0.0, 2.9459101490553135, 0.0, 1.5596157879354227, 0.0, 0.0, 0.0, 0.0, 0.0, 0.0, 0.0, 0.0, 0.0, 0.0, 0.0, 0.0, 0.0, 0.0, 0.0, 0.0, 0.0, 0.0, 2.9459101490553135, 0.0, 0.0, 0.0, 0.0, 0.0, 3.8142592685777856, 0.0, 0.0, 0.0, 0.0, 0.0, 0.0, 0.0, 2.252762968495368, 2.9459101490553135, 0.0, 0.0, 0.0, 0.0, 1.336472236621213, 2.9459101490553135, 0.0, 0.0, 2.9459101490553135, 0.0, 0.0, 0.0, 0.0, 2.9459101490553135, 2.252762968495368, 2.9459101490553135, 0.0, 0.0, 0.0, 2.9459101490553135, 1.8472978603872037, 0.0, 0.0, 0.0, 0.0, 0.0, 0.0, 2.9459101490553135, 2.9459101490553135, 0.0, 0.0, 0.0, 0.0, 0.0]\n"
     ]
    }
   ],
   "source": [
    "print(tfidf_representation[0])"
   ]
  },
  {
   "cell_type": "code",
   "execution_count": 9,
   "metadata": {},
   "outputs": [
    {
     "name": "stdout",
     "output_type": "stream",
     "text": [
      "[0.0, 0.3112012154045971, 0.0, 0.0, 0.0, 0.0, 0.0, 0.0, 0.0, 0.0, 0.0, 0.0, 0.0, 0.0, 0.18380045100490253, 0.18380045100490253, 0.0, 0.0, 0.0, 0.0, 0.0, 0.0, 0.0, 0.2403535665263221, 0.0, 0.0, 0.0, 0.18380045100490253, 0.0, 0.2403535665263221, 0.0, 0.0, 0.0, 0.0, 0.0, 0.2403535665263221, 0.0, 0.2403535665263221, 0.2403535665263221, 0.0, 0.15071899912592052, 0.0, 0.0, 0.0, 0.0, 0.0, 0.2403535665263221, 0.0, 0.0, 0.127247335483483, 0.2403535665263221, 0.0, 0.0, 0.0, 0.0, 0.0, 0.0, 0.0, 0.2403535665263221, 0.0, 0.2403535665263221, 0.0, 0.0, 0.0, 0.2403535665263221, 0.0, 0.0, 0.0, 0.0, 0.0, 0.0, 0.0, 0.0, 0.0, 0.0, 0.2403535665263221, 0.2403535665263221, 0.10904129874372748, 0.0, 0.0, 0.0, 0.0, 0.0, 0.0, 0.2403535665263221, 0.0, 0.0, 0.0, 0.0, 0.0, 0.0, 0.0, 0.0, 0.0]\n"
     ]
    }
   ],
   "source": [
    "print(sklearn_representation.toarray()[0].tolist())"
   ]
  }
 ],
 "metadata": {
  "kernelspec": {
   "display_name": "Python 3",
   "language": "python",
   "name": "python3"
  },
  "language_info": {
   "codemirror_mode": {
    "name": "ipython",
    "version": 3
   },
   "file_extension": ".py",
   "mimetype": "text/x-python",
   "name": "python",
   "nbconvert_exporter": "python",
   "pygments_lexer": "ipython3",
   "version": "3.6.6"
  }
 },
 "nbformat": 4,
 "nbformat_minor": 2
}
