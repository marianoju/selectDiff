{
 "cells": [
  {
   "cell_type": "code",
   "execution_count": 1,
   "metadata": {},
   "outputs": [],
   "source": [
    "from bs4 import BeautifulSoup\n",
    "import urllib.request\n",
    "import re\n",
    "import os"
   ]
  },
  {
   "cell_type": "code",
   "execution_count": 2,
   "metadata": {},
   "outputs": [],
   "source": [
    "# reads XML file from online source \n",
    "url = 'https://stackoverflow.com/feeds'\n",
    "\n",
    "# parses XML document and returns a `BeautifulSoup` object (aka soup)\n",
    "with urllib.request.urlopen(url) as response:\n",
    "    soup = BeautifulSoup(response.read(), \"lxml-xml\")"
   ]
  },
  {
   "cell_type": "code",
   "execution_count": 3,
   "metadata": {},
   "outputs": [],
   "source": [
    "# functions that handle content \n",
    "\n",
    "# replaces HTML tags with nothing \n",
    "def strip_tags(description):\n",
    "    return re.sub('<.*?>', '', description)\n",
    "\n",
    "\n",
    "def substitute_whitespaces(text):\n",
    "    return re.sub('\\s+', ' ', text).strip()\n",
    "    # alternatively: return ' '.join(text.split())\n",
    "    \n",
    "def cleanse_text(ore):\n",
    "    return strip_tags(substitute_whitespaces(ore))"
   ]
  },
  {
   "cell_type": "code",
   "execution_count": 4,
   "metadata": {},
   "outputs": [],
   "source": [
    "# functions that handle URL strings \n",
    "\n",
    "# removes the protocol from the URL string \n",
    "def remove_protocol(url):\n",
    "    return re.sub('^http://|^https://', '', url)\n",
    "\n",
    "# substitutes all characters from the URL string \n",
    "# with exception of letters, digits and underscores\n",
    "def substitute_but_alnum(string):\n",
    "    return re.sub(r'\\W+', '_', string)\n",
    "    # '\\W == [^a-zA-Z0-9_] \n",
    "\n",
    "def sanitize_string(var):\n",
    "    return substitute_but_alnum(remove_protocol(var))\n",
    "    # former: return ''.join([c for c in string if c.isalpha() or c.isdigit()]).rstrip()"
   ]
  },
  {
   "cell_type": "code",
   "execution_count": 5,
   "metadata": {
    "scrolled": true
   },
   "outputs": [],
   "source": [
    "# preprares directory structure for writing files \n",
    "def mkdir(directory):\n",
    "    if not os.path.exists(directory):\n",
    "        os.makedirs(directory)\n",
    "\n",
    "# finds all entries in the soup object \n",
    "# and writes summary to TXT files \n",
    "# in source-dedicated directories\n",
    "for entry in soup.find_all('entry'):\n",
    "    filename = f'{sanitize_string(entry.id.string)}.txt'\n",
    "    url = sanitize_string(url)\n",
    "    directory = '/'.join(['../data', url])\n",
    "    path = '/'.join([directory, filename])\n",
    "    # TODO: add entry.published.string to filename or path\n",
    "    mkdir(directory)\n",
    "    with open(path, 'w') as file:\n",
    "        pure_text = ''\n",
    "        # .stripped_strings is a Beautiful Soup generator \n",
    "        # intended to remove extra whitespace\n",
    "        for string in entry.summary.stripped_strings:\n",
    "            pure_text += cleanse_text(string)\n",
    "        file.write(pure_text)"
   ]
  },
  {
   "cell_type": "markdown",
   "metadata": {},
   "source": [
    "## See \n",
    "- [Beautiful Soup Documentation](https://www.crummy.com/software/BeautifulSoup/bs4/doc/) \n",
    "- [How can I safely create a nested directory in Python?](https://stackoverflow.com/questions/273192/)\n",
    "- [Remove HTML Tags](https://www.dotnetperls.com/remove-html-tags-python)\n",
    "- [How do I trim whitespace?](https://stackoverflow.com/questions/1185524/)\n",
    "- [Removing all non-ascii characters from a workflow (file)](https://unix.stackexchange.com/questions/475548/)\n",
    "- [Replace non-ASCII characters with a single space](https://stackoverflow.com/questions/20078816/)\n",
    "- [Simple way to remove multiple spaces in a string?](https://stackoverflow.com/questions/1546226/)\n",
    "- [Removing HTTP and WWW from URL python](https://stackoverflow.com/questions/40650065/)\n",
    "- [Replace non alphanumeric characters except some exceptions python](https://stackoverflow.com/questions/27938765/)\n",
    "- [Stripping everything but alphanumeric chars from a string in Python](https://stackoverflow.com/questions/1276764/)"
   ]
  }
 ],
 "metadata": {
  "kernelspec": {
   "display_name": "Python 3",
   "language": "python",
   "name": "python3"
  },
  "language_info": {
   "codemirror_mode": {
    "name": "ipython",
    "version": 3
   },
   "file_extension": ".py",
   "mimetype": "text/x-python",
   "name": "python",
   "nbconvert_exporter": "python",
   "pygments_lexer": "ipython3",
   "version": "3.6.6"
  }
 },
 "nbformat": 4,
 "nbformat_minor": 2
}
